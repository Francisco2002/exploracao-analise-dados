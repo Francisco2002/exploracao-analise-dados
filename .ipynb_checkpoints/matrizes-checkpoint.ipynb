{
 "cells": [
  {
   "cell_type": "markdown",
   "id": "7cb97266-7072-4f78-ad02-45c48bcb8574",
   "metadata": {},
   "source": [
    "# Matriz\n",
    "\n",
    "$e^{i\\pi} + 1 = 0$\n",
    "Uma matriz de ordem m x n é uma tabela com mn elementos, dispostos em m linhas e n colunas."
   ]
  }
 ],
 "metadata": {
  "kernelspec": {
   "display_name": "Python 3 (ipykernel)",
   "language": "python",
   "name": "python3"
  },
  "language_info": {
   "codemirror_mode": {
    "name": "ipython",
    "version": 3
   },
   "file_extension": ".py",
   "mimetype": "text/x-python",
   "name": "python",
   "nbconvert_exporter": "python",
   "pygments_lexer": "ipython3",
   "version": "3.12.3"
  }
 },
 "nbformat": 4,
 "nbformat_minor": 5
}
