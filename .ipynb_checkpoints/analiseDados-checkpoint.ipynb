{
 "cells": [
  {
   "cell_type": "markdown",
   "id": "7afc9e52-431b-4e73-ad07-98dc4d9ecf2f",
   "metadata": {},
   "source": [
    "## Bases de Dados sobre as reclamações e denúncias protocoladas no PROCON Paulistano (2016)"
   ]
  },
  {
   "cell_type": "code",
   "execution_count": 2,
   "id": "0c494a51-f6d0-476b-8714-212376b87b35",
   "metadata": {},
   "outputs": [],
   "source": [
    "import pandas as pd"
   ]
  },
  {
   "cell_type": "code",
   "execution_count": 3,
   "id": "9fa61a05-51a0-4a20-925c-b0965d8a60a8",
   "metadata": {},
   "outputs": [],
   "source": [
    "df = pd.read_csv(\"data/reclamacoes-2016.csv\", sep=\";\")"
   ]
  },
  {
   "cell_type": "code",
   "execution_count": 22,
   "id": "8daadd3c-66bd-4bc0-aea3-36903dba35eb",
   "metadata": {},
   "outputs": [
    {
     "data": {
      "text/html": [
       "<div>\n",
       "<style scoped>\n",
       "    .dataframe tbody tr th:only-of-type {\n",
       "        vertical-align: middle;\n",
       "    }\n",
       "\n",
       "    .dataframe tbody tr th {\n",
       "        vertical-align: top;\n",
       "    }\n",
       "\n",
       "    .dataframe thead th {\n",
       "        text-align: right;\n",
       "    }\n",
       "</style>\n",
       "<table border=\"1\" class=\"dataframe\">\n",
       "  <thead>\n",
       "    <tr style=\"text-align: right;\">\n",
       "      <th></th>\n",
       "      <th>ENTRADA DA RECLAMAÇÃO</th>\n",
       "      <th>REGIÃO</th>\n",
       "      <th>RAZÃO SOCIAL</th>\n",
       "      <th>ÁREA</th>\n",
       "      <th>MOTIVO DE BAIXA NO BACKOFFICE</th>\n",
       "    </tr>\n",
       "  </thead>\n",
       "  <tbody>\n",
       "    <tr>\n",
       "      <th>0</th>\n",
       "      <td>08/08/2016</td>\n",
       "      <td>SUL</td>\n",
       "      <td>FREITAS GRUPO DE COBRANÇAS LTDA - GRUPO FREITAS</td>\n",
       "      <td>Assuntos Financeiros</td>\n",
       "      <td>Baixa da CIP - Com resolução total</td>\n",
       "    </tr>\n",
       "    <tr>\n",
       "      <th>1</th>\n",
       "      <td>08/08/2016</td>\n",
       "      <td>OESTE</td>\n",
       "      <td>CGMP CENTRO DE GESTAO DE MEIOS DE PAGAMENTO LT...</td>\n",
       "      <td>Serviços Privados</td>\n",
       "      <td>Decisão - Reclamação Fundamentada Não Atendida</td>\n",
       "    </tr>\n",
       "    <tr>\n",
       "      <th>2</th>\n",
       "      <td>10/08/2016</td>\n",
       "      <td>OESTE</td>\n",
       "      <td>INSTITUTO PAULISTA SÃO JOSE DE ENSINO SUPERIOR...</td>\n",
       "      <td>Serviços Privados</td>\n",
       "      <td>Concluído - Simples Consulta</td>\n",
       "    </tr>\n",
       "    <tr>\n",
       "      <th>3</th>\n",
       "      <td>10/08/2016</td>\n",
       "      <td>LESTE</td>\n",
       "      <td>IDEAL VEICULOS COMERCIO E INTERMEDIACOES DE VE...</td>\n",
       "      <td>Produtos</td>\n",
       "      <td>Decisão - Reclamação Não Fundamentada</td>\n",
       "    </tr>\n",
       "    <tr>\n",
       "      <th>4</th>\n",
       "      <td>10/08/2016</td>\n",
       "      <td>SUL</td>\n",
       "      <td>OBRAS SOCIAIS E EDUCACIONAIS DE LUZ -OSEL - UN...</td>\n",
       "      <td>Serviços Privados</td>\n",
       "      <td>Baixa da CIP - Com resolução total</td>\n",
       "    </tr>\n",
       "    <tr>\n",
       "      <th>...</th>\n",
       "      <td>...</td>\n",
       "      <td>...</td>\n",
       "      <td>...</td>\n",
       "      <td>...</td>\n",
       "      <td>...</td>\n",
       "    </tr>\n",
       "    <tr>\n",
       "      <th>394</th>\n",
       "      <td>29/12/2016</td>\n",
       "      <td>SUL</td>\n",
       "      <td>THATA STORE COMERCIO VIRTUAL EIRELLI / ESPORTE...</td>\n",
       "      <td>Produtos</td>\n",
       "      <td>Encerrado - Desistência do Consumidor</td>\n",
       "    </tr>\n",
       "    <tr>\n",
       "      <th>395</th>\n",
       "      <td>30/12/2016</td>\n",
       "      <td>SUL</td>\n",
       "      <td>SONY BRASIL LTDA.</td>\n",
       "      <td>Serviços Privados \\r\\n</td>\n",
       "      <td>Encerrado - Desistência do Consumidor</td>\n",
       "    </tr>\n",
       "    <tr>\n",
       "      <th>396</th>\n",
       "      <td>30/12/2016</td>\n",
       "      <td>LESTE</td>\n",
       "      <td>GUSTAVO HENRIQUE SANTANA / SPETACOLLO MOBILE P...</td>\n",
       "      <td>Produtos</td>\n",
       "      <td>Encerrado - Desistência do Consumidor</td>\n",
       "    </tr>\n",
       "    <tr>\n",
       "      <th>397</th>\n",
       "      <td>30/12/2016</td>\n",
       "      <td>NORTE</td>\n",
       "      <td>LOJAS NICKY'S DE ARTIGOS ESPORTIVOS LTDA</td>\n",
       "      <td>Produtos</td>\n",
       "      <td>Encerrado - Desistência do Consumidor</td>\n",
       "    </tr>\n",
       "    <tr>\n",
       "      <th>398</th>\n",
       "      <td>31/12/2016</td>\n",
       "      <td>SUL</td>\n",
       "      <td>GASSAN COLCHÕES EIRELLI / HG COLCHÕES</td>\n",
       "      <td>Produtos</td>\n",
       "      <td>Concluído  Atendimento Preliminar</td>\n",
       "    </tr>\n",
       "  </tbody>\n",
       "</table>\n",
       "<p>399 rows × 5 columns</p>\n",
       "</div>"
      ],
      "text/plain": [
       "    ENTRADA DA RECLAMAÇÃO REGIÃO  \\\n",
       "0              08/08/2016    SUL   \n",
       "1              08/08/2016  OESTE   \n",
       "2              10/08/2016  OESTE   \n",
       "3              10/08/2016  LESTE   \n",
       "4              10/08/2016    SUL   \n",
       "..                    ...    ...   \n",
       "394            29/12/2016    SUL   \n",
       "395            30/12/2016    SUL   \n",
       "396            30/12/2016  LESTE   \n",
       "397            30/12/2016  NORTE   \n",
       "398            31/12/2016    SUL   \n",
       "\n",
       "                                          RAZÃO SOCIAL  \\\n",
       "0     FREITAS GRUPO DE COBRANÇAS LTDA - GRUPO FREITAS    \n",
       "1    CGMP CENTRO DE GESTAO DE MEIOS DE PAGAMENTO LT...   \n",
       "2    INSTITUTO PAULISTA SÃO JOSE DE ENSINO SUPERIOR...   \n",
       "3    IDEAL VEICULOS COMERCIO E INTERMEDIACOES DE VE...   \n",
       "4    OBRAS SOCIAIS E EDUCACIONAIS DE LUZ -OSEL - UN...   \n",
       "..                                                 ...   \n",
       "394  THATA STORE COMERCIO VIRTUAL EIRELLI / ESPORTE...   \n",
       "395                                  SONY BRASIL LTDA.   \n",
       "396  GUSTAVO HENRIQUE SANTANA / SPETACOLLO MOBILE P...   \n",
       "397           LOJAS NICKY'S DE ARTIGOS ESPORTIVOS LTDA   \n",
       "398              GASSAN COLCHÕES EIRELLI / HG COLCHÕES   \n",
       "\n",
       "                       ÁREA                   MOTIVO DE BAIXA NO BACKOFFICE  \n",
       "0     Assuntos Financeiros               Baixa da CIP - Com resolução total  \n",
       "1        Serviços Privados   Decisão - Reclamação Fundamentada Não Atendida  \n",
       "2         Serviços Privados                    Concluído - Simples Consulta  \n",
       "3                  Produtos           Decisão - Reclamação Não Fundamentada  \n",
       "4         Serviços Privados              Baixa da CIP - Com resolução total  \n",
       "..                      ...                                             ...  \n",
       "394               Produtos            Encerrado - Desistência do Consumidor  \n",
       "395  Serviços Privados \\r\\n           Encerrado - Desistência do Consumidor  \n",
       "396               Produtos            Encerrado - Desistência do Consumidor  \n",
       "397               Produtos            Encerrado - Desistência do Consumidor  \n",
       "398               Produtos               Concluído  Atendimento Preliminar  \n",
       "\n",
       "[399 rows x 5 columns]"
      ]
     },
     "execution_count": 22,
     "metadata": {},
     "output_type": "execute_result"
    }
   ],
   "source": [
    "df"
   ]
  },
  {
   "cell_type": "code",
   "execution_count": 24,
   "id": "b26d11fd-9ff0-4a5a-b7d4-754aa828ce0f",
   "metadata": {},
   "outputs": [],
   "source": [
    "df[\"REGIÃO\"] = df[\"REGIÃO\"].str.strip()\n",
    "df[\"ÁREA\"] = df[\"ÁREA\"].str.strip()"
   ]
  },
  {
   "cell_type": "markdown",
   "id": "88724913-1baf-4f98-8760-ff427841aae4",
   "metadata": {},
   "source": [
    "### Qual a região com mais reclamações?"
   ]
  },
  {
   "cell_type": "code",
   "execution_count": 26,
   "id": "a499c060-d2b5-4e3e-b1f2-4577aaf586f9",
   "metadata": {},
   "outputs": [
    {
     "data": {
      "text/plain": [
       "'LESTE'"
      ]
     },
     "execution_count": 26,
     "metadata": {},
     "output_type": "execute_result"
    }
   ],
   "source": [
    "df[\"REGIÃO\"].value_counts().idxmax()"
   ]
  },
  {
   "cell_type": "markdown",
   "id": "0f76dd30-76d6-48c8-a646-a2c0046752e5",
   "metadata": {},
   "source": [
    "### Qual a média de reclamações por região?"
   ]
  },
  {
   "cell_type": "code",
   "execution_count": 27,
   "id": "615de52f-05fa-4e46-b418-c7639079f1fe",
   "metadata": {},
   "outputs": [
    {
     "data": {
      "text/plain": [
       "REGIÃO\n",
       "LESTE     0.353383\n",
       "SUL       0.238095\n",
       "NORTE     0.177945\n",
       "OESTE     0.172932\n",
       "CENTRO    0.045113\n",
       "-         0.012531\n",
       "Name: count, dtype: float64"
      ]
     },
     "execution_count": 27,
     "metadata": {},
     "output_type": "execute_result"
    }
   ],
   "source": [
    "media_regiao = df[\"REGIÃO\"].value_counts() / df.shape[0]\n",
    "\n",
    "media_regiao"
   ]
  },
  {
   "cell_type": "markdown",
   "id": "205fd528-8b54-4aae-bf61-06249fd3217e",
   "metadata": {},
   "source": [
    "### Qual área possui mais reclamações?"
   ]
  },
  {
   "cell_type": "code",
   "execution_count": 28,
   "id": "cb3a1cff-f87f-4319-96f2-6ddb5a9d1d1f",
   "metadata": {},
   "outputs": [
    {
     "data": {
      "text/plain": [
       "'Serviços Privados'"
      ]
     },
     "execution_count": 28,
     "metadata": {},
     "output_type": "execute_result"
    }
   ],
   "source": [
    "df[\"ÁREA\"].value_counts().idxmax()"
   ]
  },
  {
   "cell_type": "markdown",
   "id": "c3b6b8dd-7fc9-4f17-bd73-25f73a0ec106",
   "metadata": {},
   "source": [
    "### Qual a média de reclamações por área?"
   ]
  },
  {
   "cell_type": "code",
   "execution_count": 29,
   "id": "b5d123ad-13f8-4b29-be50-5b26321f5b2b",
   "metadata": {},
   "outputs": [
    {
     "data": {
      "text/plain": [
       "ÁREA\n",
       "Serviços Privados       0.395990\n",
       "Produtos                0.363409\n",
       "Assuntos Financeiros    0.115288\n",
       "Serviços Essenciais     0.080201\n",
       "Saúde                   0.025063\n",
       "Habitação               0.012531\n",
       "Alimentos               0.007519\n",
       "Name: count, dtype: float64"
      ]
     },
     "execution_count": 29,
     "metadata": {},
     "output_type": "execute_result"
    }
   ],
   "source": [
    "media_area = df[\"ÁREA\"].value_counts() / df.shape[0]\n",
    "\n",
    "media_area"
   ]
  },
  {
   "cell_type": "markdown",
   "id": "818405b8-3a29-4ff5-87d3-7b0cbcf4b293",
   "metadata": {},
   "source": [
    "### Por área, qual região possui mais reclamações?"
   ]
  },
  {
   "cell_type": "code",
   "execution_count": 54,
   "id": "deb2c929-d4ac-4014-ad71-9bbb9fb532bb",
   "metadata": {},
   "outputs": [
    {
     "data": {
      "text/plain": [
       "ÁREA                  REGIÃO\n",
       "Alimentos             LESTE      2\n",
       "                      SUL        1\n",
       "Assuntos Financeiros  LESTE     18\n",
       "                      NORTE     12\n",
       "                      SUL       10\n",
       "                      OESTE      3\n",
       "                      -          2\n",
       "                      CENTRO     1\n",
       "Habitação             LESTE      3\n",
       "                      NORTE      1\n",
       "                      OESTE      1\n",
       "Produtos              LESTE     48\n",
       "                      SUL       39\n",
       "                      NORTE     30\n",
       "                      OESTE     20\n",
       "                      CENTRO     7\n",
       "                      -          1\n",
       "Saúde                 LESTE      6\n",
       "                      OESTE      3\n",
       "                      NORTE      1\n",
       "Serviços Essenciais   LESTE     15\n",
       "                      OESTE      7\n",
       "                      SUL        4\n",
       "                      CENTRO     3\n",
       "                      NORTE      2\n",
       "                      -          1\n",
       "Serviços Privados     LESTE     49\n",
       "                      SUL       41\n",
       "                      OESTE     35\n",
       "                      NORTE     25\n",
       "                      CENTRO     7\n",
       "                      -          1\n",
       "Name: count, dtype: int64"
      ]
     },
     "execution_count": 54,
     "metadata": {},
     "output_type": "execute_result"
    }
   ],
   "source": [
    "df_filter = df[[\"ÁREA\", \"REGIÃO\"]]\n",
    "\n",
    "serie = df_filter.groupby(\"ÁREA\")[\"REGIÃO\"].value_counts()\n",
    "\n",
    "serie"
   ]
  },
  {
   "cell_type": "code",
   "execution_count": 57,
   "id": "7eea5566-fa2e-46c7-8b7e-2494c79f4871",
   "metadata": {},
   "outputs": [
    {
     "name": "stdout",
     "output_type": "stream",
     "text": [
      "Alimentos                {'região': 'LESTE', 'count': 2}\n",
      "Assuntos Financeiros    {'região': 'LESTE', 'count': 18}\n",
      "Habitação                {'região': 'LESTE', 'count': 3}\n",
      "Produtos                {'região': 'LESTE', 'count': 48}\n",
      "Saúde                    {'região': 'LESTE', 'count': 6}\n",
      "Serviços Essenciais     {'região': 'LESTE', 'count': 15}\n",
      "Serviços Privados       {'região': 'LESTE', 'count': 49}\n",
      "dtype: object\n"
     ]
    }
   ],
   "source": [
    "nova_serie = dict()\n",
    "\n",
    "for area, regiao in serie.keys():\n",
    "    if not area in nova_serie.keys() or nova_serie[area][\"count\"] < serie[area][regiao]:\n",
    "        nova_serie[area] = { \"região\": regiao, \"count\": serie[area][regiao] }\n",
    "\n",
    "nova_serie = pd.Series(nova_serie)\n",
    "print(nova_serie)"
   ]
  },
  {
   "cell_type": "markdown",
   "id": "59fece2e-cbe4-473d-a112-6bf2f193f6e7",
   "metadata": {},
   "source": [
    "### Qual mês possui mais ocorrências?"
   ]
  },
  {
   "cell_type": "code",
   "execution_count": 93,
   "id": "cecb8ffb-c170-4f5b-9acc-4879b4d8b115",
   "metadata": {},
   "outputs": [
    {
     "ename": "ValueError",
     "evalue": "time data \" 13/08/2016\" doesn't match format \" %m/%d/%Y\", at position 4. You might want to try:\n    - passing `format` if your strings have a consistent format;\n    - passing `format='ISO8601'` if your strings are all ISO8601 but not necessarily in exactly the same format;\n    - passing `format='mixed'`, and the format will be inferred for each element individually. You might want to use `dayfirst` alongside this.",
     "output_type": "error",
     "traceback": [
      "\u001b[0;31m---------------------------------------------------------------------------\u001b[0m",
      "\u001b[0;31mValueError\u001b[0m                                Traceback (most recent call last)",
      "Cell \u001b[0;32mIn[93], line 17\u001b[0m\n\u001b[1;32m     14\u001b[0m     meses_serie[mes] \u001b[38;5;241m=\u001b[39m \u001b[38;5;241m0\u001b[39m\n\u001b[1;32m     16\u001b[0m \u001b[38;5;66;03m# df[\"ENTRADA DA RECLAMAÇÃO\"].apply(pegaMes)\u001b[39;00m\n\u001b[0;32m---> 17\u001b[0m df[\u001b[38;5;124m\"\u001b[39m\u001b[38;5;124mENTRADA DA RECLAMAÇÃO\u001b[39m\u001b[38;5;124m\"\u001b[39m] \u001b[38;5;241m=\u001b[39m \u001b[43mpd\u001b[49m\u001b[38;5;241;43m.\u001b[39;49m\u001b[43mto_datetime\u001b[49m\u001b[43m(\u001b[49m\u001b[43mdf\u001b[49m\u001b[43m[\u001b[49m\u001b[38;5;124;43m\"\u001b[39;49m\u001b[38;5;124;43mENTRADA DA RECLAMAÇÃO\u001b[39;49m\u001b[38;5;124;43m\"\u001b[39;49m\u001b[43m]\u001b[49m\u001b[43m)\u001b[49m\n",
      "File \u001b[0;32m~/.local/lib/python3.12/site-packages/pandas/core/tools/datetimes.py:1063\u001b[0m, in \u001b[0;36mto_datetime\u001b[0;34m(arg, errors, dayfirst, yearfirst, utc, format, exact, unit, infer_datetime_format, origin, cache)\u001b[0m\n\u001b[1;32m   1061\u001b[0m             result \u001b[38;5;241m=\u001b[39m arg\u001b[38;5;241m.\u001b[39mtz_localize(\u001b[38;5;124m\"\u001b[39m\u001b[38;5;124mutc\u001b[39m\u001b[38;5;124m\"\u001b[39m)\n\u001b[1;32m   1062\u001b[0m \u001b[38;5;28;01melif\u001b[39;00m \u001b[38;5;28misinstance\u001b[39m(arg, ABCSeries):\n\u001b[0;32m-> 1063\u001b[0m     cache_array \u001b[38;5;241m=\u001b[39m \u001b[43m_maybe_cache\u001b[49m\u001b[43m(\u001b[49m\u001b[43marg\u001b[49m\u001b[43m,\u001b[49m\u001b[43m \u001b[49m\u001b[38;5;28;43mformat\u001b[39;49m\u001b[43m,\u001b[49m\u001b[43m \u001b[49m\u001b[43mcache\u001b[49m\u001b[43m,\u001b[49m\u001b[43m \u001b[49m\u001b[43mconvert_listlike\u001b[49m\u001b[43m)\u001b[49m\n\u001b[1;32m   1064\u001b[0m     \u001b[38;5;28;01mif\u001b[39;00m \u001b[38;5;129;01mnot\u001b[39;00m cache_array\u001b[38;5;241m.\u001b[39mempty:\n\u001b[1;32m   1065\u001b[0m         result \u001b[38;5;241m=\u001b[39m arg\u001b[38;5;241m.\u001b[39mmap(cache_array)\n",
      "File \u001b[0;32m~/.local/lib/python3.12/site-packages/pandas/core/tools/datetimes.py:247\u001b[0m, in \u001b[0;36m_maybe_cache\u001b[0;34m(arg, format, cache, convert_listlike)\u001b[0m\n\u001b[1;32m    245\u001b[0m unique_dates \u001b[38;5;241m=\u001b[39m unique(arg)\n\u001b[1;32m    246\u001b[0m \u001b[38;5;28;01mif\u001b[39;00m \u001b[38;5;28mlen\u001b[39m(unique_dates) \u001b[38;5;241m<\u001b[39m \u001b[38;5;28mlen\u001b[39m(arg):\n\u001b[0;32m--> 247\u001b[0m     cache_dates \u001b[38;5;241m=\u001b[39m \u001b[43mconvert_listlike\u001b[49m\u001b[43m(\u001b[49m\u001b[43munique_dates\u001b[49m\u001b[43m,\u001b[49m\u001b[43m \u001b[49m\u001b[38;5;28;43mformat\u001b[39;49m\u001b[43m)\u001b[49m\n\u001b[1;32m    248\u001b[0m     \u001b[38;5;66;03m# GH#45319\u001b[39;00m\n\u001b[1;32m    249\u001b[0m     \u001b[38;5;28;01mtry\u001b[39;00m:\n",
      "File \u001b[0;32m~/.local/lib/python3.12/site-packages/pandas/core/tools/datetimes.py:433\u001b[0m, in \u001b[0;36m_convert_listlike_datetimes\u001b[0;34m(arg, format, name, utc, unit, errors, dayfirst, yearfirst, exact)\u001b[0m\n\u001b[1;32m    431\u001b[0m \u001b[38;5;66;03m# `format` could be inferred, or user didn't ask for mixed-format parsing.\u001b[39;00m\n\u001b[1;32m    432\u001b[0m \u001b[38;5;28;01mif\u001b[39;00m \u001b[38;5;28mformat\u001b[39m \u001b[38;5;129;01mis\u001b[39;00m \u001b[38;5;129;01mnot\u001b[39;00m \u001b[38;5;28;01mNone\u001b[39;00m \u001b[38;5;129;01mand\u001b[39;00m \u001b[38;5;28mformat\u001b[39m \u001b[38;5;241m!=\u001b[39m \u001b[38;5;124m\"\u001b[39m\u001b[38;5;124mmixed\u001b[39m\u001b[38;5;124m\"\u001b[39m:\n\u001b[0;32m--> 433\u001b[0m     \u001b[38;5;28;01mreturn\u001b[39;00m \u001b[43m_array_strptime_with_fallback\u001b[49m\u001b[43m(\u001b[49m\u001b[43marg\u001b[49m\u001b[43m,\u001b[49m\u001b[43m \u001b[49m\u001b[43mname\u001b[49m\u001b[43m,\u001b[49m\u001b[43m \u001b[49m\u001b[43mutc\u001b[49m\u001b[43m,\u001b[49m\u001b[43m \u001b[49m\u001b[38;5;28;43mformat\u001b[39;49m\u001b[43m,\u001b[49m\u001b[43m \u001b[49m\u001b[43mexact\u001b[49m\u001b[43m,\u001b[49m\u001b[43m \u001b[49m\u001b[43merrors\u001b[49m\u001b[43m)\u001b[49m\n\u001b[1;32m    435\u001b[0m result, tz_parsed \u001b[38;5;241m=\u001b[39m objects_to_datetime64(\n\u001b[1;32m    436\u001b[0m     arg,\n\u001b[1;32m    437\u001b[0m     dayfirst\u001b[38;5;241m=\u001b[39mdayfirst,\n\u001b[0;32m   (...)\u001b[0m\n\u001b[1;32m    441\u001b[0m     allow_object\u001b[38;5;241m=\u001b[39m\u001b[38;5;28;01mTrue\u001b[39;00m,\n\u001b[1;32m    442\u001b[0m )\n\u001b[1;32m    444\u001b[0m \u001b[38;5;28;01mif\u001b[39;00m tz_parsed \u001b[38;5;129;01mis\u001b[39;00m \u001b[38;5;129;01mnot\u001b[39;00m \u001b[38;5;28;01mNone\u001b[39;00m:\n\u001b[1;32m    445\u001b[0m     \u001b[38;5;66;03m# We can take a shortcut since the datetime64 numpy array\u001b[39;00m\n\u001b[1;32m    446\u001b[0m     \u001b[38;5;66;03m# is in UTC\u001b[39;00m\n",
      "File \u001b[0;32m~/.local/lib/python3.12/site-packages/pandas/core/tools/datetimes.py:467\u001b[0m, in \u001b[0;36m_array_strptime_with_fallback\u001b[0;34m(arg, name, utc, fmt, exact, errors)\u001b[0m\n\u001b[1;32m    456\u001b[0m \u001b[38;5;28;01mdef\u001b[39;00m \u001b[38;5;21m_array_strptime_with_fallback\u001b[39m(\n\u001b[1;32m    457\u001b[0m     arg,\n\u001b[1;32m    458\u001b[0m     name,\n\u001b[0;32m   (...)\u001b[0m\n\u001b[1;32m    462\u001b[0m     errors: \u001b[38;5;28mstr\u001b[39m,\n\u001b[1;32m    463\u001b[0m ) \u001b[38;5;241m-\u001b[39m\u001b[38;5;241m>\u001b[39m Index:\n\u001b[1;32m    464\u001b[0m \u001b[38;5;250m    \u001b[39m\u001b[38;5;124;03m\"\"\"\u001b[39;00m\n\u001b[1;32m    465\u001b[0m \u001b[38;5;124;03m    Call array_strptime, with fallback behavior depending on 'errors'.\u001b[39;00m\n\u001b[1;32m    466\u001b[0m \u001b[38;5;124;03m    \"\"\"\u001b[39;00m\n\u001b[0;32m--> 467\u001b[0m     result, tz_out \u001b[38;5;241m=\u001b[39m \u001b[43marray_strptime\u001b[49m\u001b[43m(\u001b[49m\u001b[43marg\u001b[49m\u001b[43m,\u001b[49m\u001b[43m \u001b[49m\u001b[43mfmt\u001b[49m\u001b[43m,\u001b[49m\u001b[43m \u001b[49m\u001b[43mexact\u001b[49m\u001b[38;5;241;43m=\u001b[39;49m\u001b[43mexact\u001b[49m\u001b[43m,\u001b[49m\u001b[43m \u001b[49m\u001b[43merrors\u001b[49m\u001b[38;5;241;43m=\u001b[39;49m\u001b[43merrors\u001b[49m\u001b[43m,\u001b[49m\u001b[43m \u001b[49m\u001b[43mutc\u001b[49m\u001b[38;5;241;43m=\u001b[39;49m\u001b[43mutc\u001b[49m\u001b[43m)\u001b[49m\n\u001b[1;32m    468\u001b[0m     \u001b[38;5;28;01mif\u001b[39;00m tz_out \u001b[38;5;129;01mis\u001b[39;00m \u001b[38;5;129;01mnot\u001b[39;00m \u001b[38;5;28;01mNone\u001b[39;00m:\n\u001b[1;32m    469\u001b[0m         unit \u001b[38;5;241m=\u001b[39m np\u001b[38;5;241m.\u001b[39mdatetime_data(result\u001b[38;5;241m.\u001b[39mdtype)[\u001b[38;5;241m0\u001b[39m]\n",
      "File \u001b[0;32mstrptime.pyx:501\u001b[0m, in \u001b[0;36mpandas._libs.tslibs.strptime.array_strptime\u001b[0;34m()\u001b[0m\n",
      "File \u001b[0;32mstrptime.pyx:451\u001b[0m, in \u001b[0;36mpandas._libs.tslibs.strptime.array_strptime\u001b[0;34m()\u001b[0m\n",
      "File \u001b[0;32mstrptime.pyx:583\u001b[0m, in \u001b[0;36mpandas._libs.tslibs.strptime._parse_with_format\u001b[0;34m()\u001b[0m\n",
      "\u001b[0;31mValueError\u001b[0m: time data \" 13/08/2016\" doesn't match format \" %m/%d/%Y\", at position 4. You might want to try:\n    - passing `format` if your strings have a consistent format;\n    - passing `format='ISO8601'` if your strings are all ISO8601 but not necessarily in exactly the same format;\n    - passing `format='mixed'`, and the format will be inferred for each element individually. You might want to use `dayfirst` alongside this."
     ]
    }
   ],
   "source": [
    "from datetime import datetime\n",
    "\n",
    "\n",
    "def pegaMes(data):\n",
    "    print(data)\n",
    "    mes = datetime.strptime(data, \"%d/%m/%Y\").month\n",
    "    return mes\n",
    "\n",
    "\n",
    "meses = ['Janeiro', 'Fevereiro', 'Março', 'Abril', 'Maio', 'Junho', 'Julho', 'Agosto', 'Setembro', 'Outubro', 'Novembro', 'Dezembro']\n",
    "meses_serie = pd.Series()\n",
    "\n",
    "for mes in meses:\n",
    "    meses_serie[mes] = 0\n",
    "\n",
    "# df[\"ENTRADA DA RECLAMAÇÃO\"].apply(pegaMes)\n",
    "df[\"ENTRADA DA RECLAMAÇÃO\"] = pd.to_datetime(df[\"ENTRADA DA RECLAMAÇÃO\"], infer_datetime_format=True)\n"
   ]
  }
 ],
 "metadata": {
  "kernelspec": {
   "display_name": "Python 3 (ipykernel)",
   "language": "python",
   "name": "python3"
  },
  "language_info": {
   "codemirror_mode": {
    "name": "ipython",
    "version": 3
   },
   "file_extension": ".py",
   "mimetype": "text/x-python",
   "name": "python",
   "nbconvert_exporter": "python",
   "pygments_lexer": "ipython3",
   "version": "3.12.3"
  }
 },
 "nbformat": 4,
 "nbformat_minor": 5
}
