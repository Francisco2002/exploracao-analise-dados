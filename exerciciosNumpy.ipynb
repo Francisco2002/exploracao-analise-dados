{
 "cells": [
  {
   "cell_type": "markdown",
   "id": "07e95329-a398-4bff-84c2-33199f87701e",
   "metadata": {},
   "source": [
    "# Exercícios Numpy"
   ]
  },
  {
   "cell_type": "markdown",
   "id": "8c733b36-5f09-4a67-924b-1a2c1ea861c7",
   "metadata": {},
   "source": [
    "**Usando o pacote NumPy, escreva uma função recursiva que calcule o determinante de uma matriz $n \\times n$ usando o teorema de Laplace**"
   ]
  },
  {
   "cell_type": "markdown",
   "id": "e3a71364-fa16-4eaa-9697-492ee58cf261",
   "metadata": {},
   "source": [
    "## Relembrando\n",
    "\n",
    "* Para qualquer matriz quadrada, conhecemos como menor complementar de um elemento o determinante da matriz calculado eliminando-se a linha e a coluna às quais esse elemento da matriz pertence. O menor complementar de um elemento é representado comumente como $D_{ij}$.\n",
    "\n",
    "### Exemplo\n",
    "\n",
    "Seja $\n",
    "A=\\begin{bmatrix}\n",
    "1 & 2 & 3 & 4\\\\\n",
    "5 & 6 & 7 & 8\\\\\n",
    "9 & 10 & 11 & 12\\\\\n",
    "13 & 14 & 15 & 16\n",
    "\\end{bmatrix}\n",
    "$, o menor complementar do elemento $a_{14}$ é\n",
    "$\n",
    "D_{14}=\\begin{vmatrix}\n",
    "5 & 6 & 7\\\\\n",
    "9 & 10 & 11\\\\\n",
    "13 & 14 & 15\n",
    "\\end{vmatrix}\n",
    "$\n",
    "\n",
    "* Conhecemos como Cofator $C_{ij}$ um número associado a cada um dos elementos da matriz, esse cofator é calculado pela seguinte fórmula:\n",
    "$$C_{ij} = (-1)^{i+j} D_{ij}$$\n",
    "\n",
    "### Exemplo\n",
    "\n",
    "O cofator do elemento $a_{14}$ é $C_{ij} = (-1)^{1 + 4}\\begin{vmatrix}\n",
    "5 & 6 & 7\\\\\n",
    "9 & 10 & 11\\\\\n",
    "13 & 14 & 15\n",
    "\\end{vmatrix}$\n",
    "\n",
    "\n",
    "## Teorema de Laplace\n",
    "\n",
    "Seja $A$ uma matriz quadrada, o determinante de $A$, ou seja, $det(A)$, é igual à soma dos produtos dos elementos de uma fila (linha ou coluna) pelos seus respectivos cofatores.\n",
    "* $det(A) = a_{k1}C_{k1} + a_{k2}C_{k2} + … + a_{kn}C_{kn}$ (usando linha)\n",
    "* $det(A) = a_{1c}C_{1c} + a_{2c}C_{2c} + … + a_{mc}C_{mc}$ (usando coluna)\n",
    "\n",
    "### Exemplo\n",
    "\n",
    "Vamos calcular o determinante da matriz A. Usaremos a linha 1\n",
    "$$\n",
    "det(A) = a_{11}C_{11} + a_{12}C_{12} + a_{13}C_{13} + a_{14}C_{14}\n",
    "det(A) = (-1)^{1+1}\\begin{vmatrix}\n",
    "6 & 7 & 8\\\\\n",
    "10 & 11 & 12\\\\\n",
    "14 & 15 & 16\n",
    "\\end{vmatrix} + 2(-1)^{1+2}\\begin{vmatrix}\n",
    "5 & 7 & 8\\\\\n",
    "9 & 11 & 12\\\\\n",
    "13 & 15 & 16\n",
    "\\end{vmatrix} + 3(-1)^{1+3}\\begin{vmatrix}\n",
    "5 & 6 & 8\\\\\n",
    "9 & 10 & 12\\\\\n",
    "13 & 14 & 16\n",
    "\\end{vmatrix} + 4(-1)^{1+4}\\begin{vmatrix}\n",
    "5 & 6 & 7\\\\\n",
    "9 & 10 & 11\\\\\n",
    "13 & 14 & 15\n",
    "\\end{vmatrix} = 0\n",
    "$$"
   ]
  },
  {
   "cell_type": "code",
   "execution_count": 4,
   "id": "ad4b0b12-34d0-4e17-a4b5-7f6c211722a3",
   "metadata": {},
   "outputs": [],
   "source": [
    "import numpy as np"
   ]
  },
  {
   "cell_type": "code",
   "execution_count": 9,
   "id": "d4a06860-af0e-404e-b259-0626daea2cf7",
   "metadata": {},
   "outputs": [],
   "source": [
    "A = np.array([[1,2,3,4], [5,6,7,8],[9,10,11,12],[13,14,15,16]])"
   ]
  },
  {
   "cell_type": "code",
   "execution_count": 61,
   "id": "922fbf0e-f3c5-463e-a7a1-643fcfce67a1",
   "metadata": {},
   "outputs": [],
   "source": [
    "def determinante(A):\n",
    "    try:\n",
    "        ordem, _ = A.shape\n",
    "    except ValueError:\n",
    "        return None \n",
    "\n",
    "    if ordem == 1:\n",
    "        return A[0][0]\n",
    "    \n",
    "    k = np.random.randint(ordem)\n",
    "    \n",
    "    det = 0\n",
    "    for i in range(ordem):\n",
    "        C_ki = np.delete(A, [k], axis=0)\n",
    "        C_ki = np.delete(C_ki, [i], axis=1)\n",
    "        det += A[k][i] * (-1) ** (k + i) * determinante(C_ki)\n",
    "\n",
    "    return det\n"
   ]
  },
  {
   "cell_type": "code",
   "execution_count": 53,
   "id": "f8ef13e6-3104-473b-8e19-30d170bc1c8e",
   "metadata": {},
   "outputs": [
    {
     "data": {
      "text/plain": [
       "0"
      ]
     },
     "execution_count": 53,
     "metadata": {},
     "output_type": "execute_result"
    }
   ],
   "source": [
    "detA = determinante(A)\n",
    "\n",
    "detA"
   ]
  },
  {
   "cell_type": "code",
   "execution_count": 54,
   "id": "4d20f02c-5445-4720-9849-f54b2c5ed048",
   "metadata": {},
   "outputs": [],
   "source": [
    "B = np.array([[1,3,5], [2,4,6], [-4,1,-1]])"
   ]
  },
  {
   "cell_type": "code",
   "execution_count": 56,
   "id": "d0be8f98-7303-41d5-97e2-e42a654d4cc9",
   "metadata": {},
   "outputs": [
    {
     "data": {
      "text/plain": [
       "14"
      ]
     },
     "execution_count": 56,
     "metadata": {},
     "output_type": "execute_result"
    }
   ],
   "source": [
    "detB = determinante(B)\n",
    "\n",
    "detB"
   ]
  },
  {
   "cell_type": "markdown",
   "id": "8a9405ae-82a3-43cd-9078-f1bcd1d4aff3",
   "metadata": {},
   "source": [
    "**Usando o pacote NumPy, escreva um programa que calcule a solução de um sistema de equações lineares por meio da regra de Cramer. Seu programa deve iniciar lendo o numero de equações e variáveis, e, logo após, ler as matrizes de entrada do teclado coeficiente a coeficiente. Para o cálculo dos determinantes, você pode utilizar a função escrita no exercício 1, ou a função det do pacote NumPy.**"
   ]
  },
  {
   "cell_type": "markdown",
   "id": "7db14dfa-87ac-45a2-a21e-c2b25fd51c7a",
   "metadata": {},
   "source": [
    "## Regra de Cramer\n",
    "\n",
    "Seja o seguinte sistema\n",
    "\n",
    "$$\n",
    "\\begin{equation*}\n",
    "\\left\\{\n",
    "\\begin{matrix}\n",
    "a_1x + b_1y + c_1z = d_1\\\\\n",
    "a_2x + b_2y + c_2z = d_2\\\\\n",
    "a_3x + b_3y + c_3z = d_3\n",
    "\\end{matrix}\n",
    "\\right.\n",
    "\\end{equation*}\n",
    "$$\n",
    "\n",
    "Calculamos o determinante da matriz incompleta D.\n",
    "$$\n",
    "D=\\begin{vmatrix}\n",
    "a_1 & b_1 & c_1\\\\\n",
    "a_2 & b_2 & c_2\\\\\n",
    "a_3 & b_3 & c_3\n",
    "\\end{vmatrix}\n",
    "$$\n",
    "E também calcularemos $D_x$, que é o determinante da matriz incompleta, substituindo a primeira coluna pelos termos independentes $d_1$, $d_2$ e $d_3$.\n",
    "$$\n",
    "D_x=\\begin{vmatrix}\n",
    "d_1 & b_1 & c_1\\\\\n",
    "d_2 & b_2 & c_2\\\\\n",
    "d_3 & b_3 & c_3\n",
    "\\end{vmatrix}\n",
    "$$\n",
    "De maneira análoga, calculamos $D_y$ e $D_z$\n",
    "\n",
    "$$\n",
    "D_y=\\begin{vmatrix}\n",
    "a_1 & d_1 & c_1\\\\\n",
    "a_2 & d_2 & c_2\\\\\n",
    "a_3 & d_3 & c_3\n",
    "\\end{vmatrix} \\\\\n",
    "D_z=\\begin{vmatrix}\n",
    "a_1 & b_1 & d_1\\\\\n",
    "a_2 & b_2 & d_2\\\\\n",
    "a_3 & b_3 & d_3\n",
    "\\end{vmatrix}\n",
    "$$\n",
    "\n",
    "Pela regra de Cramer, conhecendo os valores dos determinantes anteriores, temos que:\n",
    "$$\n",
    "x = \\frac{D_x}{D}, \\\\\n",
    "y = \\frac{D_y}{D}, \\\\\n",
    "z = \\frac{D_z}{D}\n",
    "$$"
   ]
  },
  {
   "cell_type": "code",
   "execution_count": 71,
   "id": "2176f1ba-bc01-4c99-b2a0-1c003d288f4e",
   "metadata": {},
   "outputs": [
    {
     "data": {
      "text/plain": [
       "array([[ 1, 10,  3],\n",
       "       [ 4, 20,  6],\n",
       "       [ 7, 30,  9]])"
      ]
     },
     "execution_count": 71,
     "metadata": {},
     "output_type": "execute_result"
    }
   ],
   "source": []
  },
  {
   "cell_type": "code",
   "execution_count": 101,
   "id": "110de120-1d59-4398-9de8-99388c1c7f40",
   "metadata": {},
   "outputs": [],
   "source": [
    "def solucaoCramer(A, d):\n",
    "    D = determinante(A)\n",
    "\n",
    "    ordem, _ = A.shape\n",
    "\n",
    "    solucao = []\n",
    "\n",
    "    for i in range(ordem):\n",
    "        A_i = A.copy()\n",
    "        A_i[:,i] = d\n",
    "\n",
    "        D_i = determinante(A_i)\n",
    "\n",
    "        solucao.append(D_i/D)\n",
    "\n",
    "    return np.array(solucao)"
   ]
  },
  {
   "cell_type": "code",
   "execution_count": 103,
   "id": "100c9870-1b77-43e3-9a7b-594d095d5918",
   "metadata": {},
   "outputs": [
    {
     "data": {
      "text/plain": [
       "array([ 2.,  1., -2.])"
      ]
     },
     "execution_count": 103,
     "metadata": {},
     "output_type": "execute_result"
    }
   ],
   "source": [
    "C = np.array([[1,2,-3], [2,1,1], [-3,2,1]])\n",
    "d = np.array([10,3,-6])\n",
    "\n",
    "solucao = solucaoCramer(C, d)\n",
    "\n",
    "solucao"
   ]
  },
  {
   "cell_type": "markdown",
   "id": "e8f2263a-a1f7-42ac-be7f-3730795a77b5",
   "metadata": {},
   "source": [
    "**Usando NumPy, escreva um programa que leia uma matriz quadrada elemento a elemento do teclado e classifique-a segundo uma das 5 categorias abaixo:**\n",
    "1. Definida positiva: todos os auto-valores são positivos.\n",
    "2. Semidefinida positiva: todos os auto-valores são não-negativos (isto é, podem\n",
    "ser zero).\n",
    "3. Definida negativa: todos os auto-valores são negativos.\n",
    "4. Semidefinida negativa: todos os auto-valores são não-positivos (isto é, podem ser zero)..\n",
    "5. Indefinida: existe ao menos um auto-valor positivo e ao menos um auto-valor\n",
    "negativo.<br>\n",
    "\n",
    "**Nesse exercício, considere que um auto-valor cujo módulo seja inferior a $1.0 \\times 10^{−6}$\n",
    "na realidade vale zero.**"
   ]
  },
  {
   "cell_type": "markdown",
   "id": "ddec4aab-bf6d-4de8-9b29-ec20f22f0f16",
   "metadata": {},
   "source": [
    "## Autovalor\n",
    "\n",
    "Dada uma matriz quadrada $A$ de ordem $n$, com entradas reais, nós dizemos que um número $\\lambda$ é um autovalor de quando $det(A - \\lambda I) = 0$\n",
    "\n",
    "### Exemplo\n",
    "Seja $A=\\begin{bmatrix}\n",
    "4 & 3\\\\\n",
    "1 & 2\n",
    "\\end{bmatrix}$ <br>\n",
    "Precisamos calcular<br>\n",
    "$det(A - \\lambda I) = \\begin{vmatrix}\n",
    "4 - \\lambda & 3\\\\\n",
    "1 & 2 - \\lambda\n",
    "\\end{vmatrix} = (4 - \\lambda)(2 - \\lambda) - 3 \\cdot 1 = \\lambda^2 - 6 \\lambda + 5$<br>\n",
    "Que tem raízes <br>\n",
    "$\n",
    "\\lambda = \\frac{6 \\pm \\sqrt{36-20}}{2} = 3 \\pm 2\n",
    "$\n",
    "\n",
    "Portanto, $A$ tem dois autovalores reais: $\\lambda_1 = 5$ e $\\lambda_2 = 1$\n",
    "\n"
   ]
  },
  {
   "cell_type": "code",
   "execution_count": 125,
   "id": "745e5672-6f53-4955-b9c9-8a94ddd8f275",
   "metadata": {},
   "outputs": [
    {
     "name": "stdin",
     "output_type": "stream",
     "text": [
      "Ordem 3\n",
      " -3\n",
      " 1\n",
      " 2\n",
      " 1\n",
      " -2\n",
      " -4\n",
      " 2\n",
      " -4\n",
      " -9\n"
     ]
    }
   ],
   "source": [
    "n = int(input(\"Ordem\"))\n",
    "\n",
    "matriz = np.empty((n, n))\n",
    "\n",
    "for i in range(n):\n",
    "    for j in range(n):\n",
    "        a_ij = int(input())\n",
    "        matriz[i,j] = a_ij\n"
   ]
  },
  {
   "cell_type": "code",
   "execution_count": 126,
   "id": "c39382cb-073b-44f0-944c-b9e27eeed1e2",
   "metadata": {},
   "outputs": [
    {
     "name": "stdout",
     "output_type": "stream",
     "text": [
      "Matriz Definida Negativa\n"
     ]
    }
   ],
   "source": [
    "eigenvalues, _ = np.linalg.eig(matriz)\n",
    "\n",
    "eigenvalues[np.absolute(eigenvalues) < 1.0e-6] = 0\n",
    "\n",
    "positives = eigenvalues[eigenvalues > 0].size\n",
    "negatives = eigenvalues[eigenvalues < 0].size\n",
    "zeros  = eigenvalues[eigenvalues == 0].size\n",
    "\n",
    "if positives > 0 and negatives > 0:\n",
    "    print(\"Matriz Indefinida\")\n",
    "elif positives > 0:\n",
    "    if zeros > 0:\n",
    "        print(\"Matriz Semidefinida Positiva\")\n",
    "    else:\n",
    "        print(\"Matriz Definida Positiva\")\n",
    "elif negatives > 0:\n",
    "    if zeros > 0:\n",
    "        print(\"Matriz Semidefinida Negativa\")\n",
    "    else:\n",
    "        print(\"Matriz Definida Negativa\")\n",
    "    "
   ]
  }
 ],
 "metadata": {
  "kernelspec": {
   "display_name": "Python 3 (ipykernel)",
   "language": "python",
   "name": "python3"
  },
  "language_info": {
   "codemirror_mode": {
    "name": "ipython",
    "version": 3
   },
   "file_extension": ".py",
   "mimetype": "text/x-python",
   "name": "python",
   "nbconvert_exporter": "python",
   "pygments_lexer": "ipython3",
   "version": "3.12.3"
  }
 },
 "nbformat": 4,
 "nbformat_minor": 5
}
