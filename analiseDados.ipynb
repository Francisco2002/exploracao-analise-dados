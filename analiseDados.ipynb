{
 "cells": [
  {
   "cell_type": "markdown",
   "id": "7afc9e52-431b-4e73-ad07-98dc4d9ecf2f",
   "metadata": {},
   "source": [
    "## Bases de Dados sobre as reclamações e denúncias protocoladas no PROCON Paulistano (2016)"
   ]
  },
  {
   "cell_type": "code",
   "execution_count": 2,
   "id": "0c494a51-f6d0-476b-8714-212376b87b35",
   "metadata": {},
   "outputs": [],
   "source": [
    "import pandas as pd"
   ]
  },
  {
   "cell_type": "code",
   "execution_count": 3,
   "id": "9fa61a05-51a0-4a20-925c-b0965d8a60a8",
   "metadata": {},
   "outputs": [],
   "source": [
    "df = pd.read_csv(\"data/reclamacoes-2016.csv\", sep=\";\")"
   ]
  },
  {
   "cell_type": "code",
   "execution_count": 22,
   "id": "8daadd3c-66bd-4bc0-aea3-36903dba35eb",
   "metadata": {},
   "outputs": [
    {
     "data": {
      "text/html": [
       "<div>\n",
       "<style scoped>\n",
       "    .dataframe tbody tr th:only-of-type {\n",
       "        vertical-align: middle;\n",
       "    }\n",
       "\n",
       "    .dataframe tbody tr th {\n",
       "        vertical-align: top;\n",
       "    }\n",
       "\n",
       "    .dataframe thead th {\n",
       "        text-align: right;\n",
       "    }\n",
       "</style>\n",
       "<table border=\"1\" class=\"dataframe\">\n",
       "  <thead>\n",
       "    <tr style=\"text-align: right;\">\n",
       "      <th></th>\n",
       "      <th>ENTRADA DA RECLAMAÇÃO</th>\n",
       "      <th>REGIÃO</th>\n",
       "      <th>RAZÃO SOCIAL</th>\n",
       "      <th>ÁREA</th>\n",
       "      <th>MOTIVO DE BAIXA NO BACKOFFICE</th>\n",
       "    </tr>\n",
       "  </thead>\n",
       "  <tbody>\n",
       "    <tr>\n",
       "      <th>0</th>\n",
       "      <td>08/08/2016</td>\n",
       "      <td>SUL</td>\n",
       "      <td>FREITAS GRUPO DE COBRANÇAS LTDA - GRUPO FREITAS</td>\n",
       "      <td>Assuntos Financeiros</td>\n",
       "      <td>Baixa da CIP - Com resolução total</td>\n",
       "    </tr>\n",
       "    <tr>\n",
       "      <th>1</th>\n",
       "      <td>08/08/2016</td>\n",
       "      <td>OESTE</td>\n",
       "      <td>CGMP CENTRO DE GESTAO DE MEIOS DE PAGAMENTO LT...</td>\n",
       "      <td>Serviços Privados</td>\n",
       "      <td>Decisão - Reclamação Fundamentada Não Atendida</td>\n",
       "    </tr>\n",
       "    <tr>\n",
       "      <th>2</th>\n",
       "      <td>10/08/2016</td>\n",
       "      <td>OESTE</td>\n",
       "      <td>INSTITUTO PAULISTA SÃO JOSE DE ENSINO SUPERIOR...</td>\n",
       "      <td>Serviços Privados</td>\n",
       "      <td>Concluído - Simples Consulta</td>\n",
       "    </tr>\n",
       "    <tr>\n",
       "      <th>3</th>\n",
       "      <td>10/08/2016</td>\n",
       "      <td>LESTE</td>\n",
       "      <td>IDEAL VEICULOS COMERCIO E INTERMEDIACOES DE VE...</td>\n",
       "      <td>Produtos</td>\n",
       "      <td>Decisão - Reclamação Não Fundamentada</td>\n",
       "    </tr>\n",
       "    <tr>\n",
       "      <th>4</th>\n",
       "      <td>10/08/2016</td>\n",
       "      <td>SUL</td>\n",
       "      <td>OBRAS SOCIAIS E EDUCACIONAIS DE LUZ -OSEL - UN...</td>\n",
       "      <td>Serviços Privados</td>\n",
       "      <td>Baixa da CIP - Com resolução total</td>\n",
       "    </tr>\n",
       "    <tr>\n",
       "      <th>...</th>\n",
       "      <td>...</td>\n",
       "      <td>...</td>\n",
       "      <td>...</td>\n",
       "      <td>...</td>\n",
       "      <td>...</td>\n",
       "    </tr>\n",
       "    <tr>\n",
       "      <th>394</th>\n",
       "      <td>29/12/2016</td>\n",
       "      <td>SUL</td>\n",
       "      <td>THATA STORE COMERCIO VIRTUAL EIRELLI / ESPORTE...</td>\n",
       "      <td>Produtos</td>\n",
       "      <td>Encerrado - Desistência do Consumidor</td>\n",
       "    </tr>\n",
       "    <tr>\n",
       "      <th>395</th>\n",
       "      <td>30/12/2016</td>\n",
       "      <td>SUL</td>\n",
       "      <td>SONY BRASIL LTDA.</td>\n",
       "      <td>Serviços Privados \\r\\n</td>\n",
       "      <td>Encerrado - Desistência do Consumidor</td>\n",
       "    </tr>\n",
       "    <tr>\n",
       "      <th>396</th>\n",
       "      <td>30/12/2016</td>\n",
       "      <td>LESTE</td>\n",
       "      <td>GUSTAVO HENRIQUE SANTANA / SPETACOLLO MOBILE P...</td>\n",
       "      <td>Produtos</td>\n",
       "      <td>Encerrado - Desistência do Consumidor</td>\n",
       "    </tr>\n",
       "    <tr>\n",
       "      <th>397</th>\n",
       "      <td>30/12/2016</td>\n",
       "      <td>NORTE</td>\n",
       "      <td>LOJAS NICKY'S DE ARTIGOS ESPORTIVOS LTDA</td>\n",
       "      <td>Produtos</td>\n",
       "      <td>Encerrado - Desistência do Consumidor</td>\n",
       "    </tr>\n",
       "    <tr>\n",
       "      <th>398</th>\n",
       "      <td>31/12/2016</td>\n",
       "      <td>SUL</td>\n",
       "      <td>GASSAN COLCHÕES EIRELLI / HG COLCHÕES</td>\n",
       "      <td>Produtos</td>\n",
       "      <td>Concluído  Atendimento Preliminar</td>\n",
       "    </tr>\n",
       "  </tbody>\n",
       "</table>\n",
       "<p>399 rows × 5 columns</p>\n",
       "</div>"
      ],
      "text/plain": [
       "    ENTRADA DA RECLAMAÇÃO REGIÃO  \\\n",
       "0              08/08/2016    SUL   \n",
       "1              08/08/2016  OESTE   \n",
       "2              10/08/2016  OESTE   \n",
       "3              10/08/2016  LESTE   \n",
       "4              10/08/2016    SUL   \n",
       "..                    ...    ...   \n",
       "394            29/12/2016    SUL   \n",
       "395            30/12/2016    SUL   \n",
       "396            30/12/2016  LESTE   \n",
       "397            30/12/2016  NORTE   \n",
       "398            31/12/2016    SUL   \n",
       "\n",
       "                                          RAZÃO SOCIAL  \\\n",
       "0     FREITAS GRUPO DE COBRANÇAS LTDA - GRUPO FREITAS    \n",
       "1    CGMP CENTRO DE GESTAO DE MEIOS DE PAGAMENTO LT...   \n",
       "2    INSTITUTO PAULISTA SÃO JOSE DE ENSINO SUPERIOR...   \n",
       "3    IDEAL VEICULOS COMERCIO E INTERMEDIACOES DE VE...   \n",
       "4    OBRAS SOCIAIS E EDUCACIONAIS DE LUZ -OSEL - UN...   \n",
       "..                                                 ...   \n",
       "394  THATA STORE COMERCIO VIRTUAL EIRELLI / ESPORTE...   \n",
       "395                                  SONY BRASIL LTDA.   \n",
       "396  GUSTAVO HENRIQUE SANTANA / SPETACOLLO MOBILE P...   \n",
       "397           LOJAS NICKY'S DE ARTIGOS ESPORTIVOS LTDA   \n",
       "398              GASSAN COLCHÕES EIRELLI / HG COLCHÕES   \n",
       "\n",
       "                       ÁREA                   MOTIVO DE BAIXA NO BACKOFFICE  \n",
       "0     Assuntos Financeiros               Baixa da CIP - Com resolução total  \n",
       "1        Serviços Privados   Decisão - Reclamação Fundamentada Não Atendida  \n",
       "2         Serviços Privados                    Concluído - Simples Consulta  \n",
       "3                  Produtos           Decisão - Reclamação Não Fundamentada  \n",
       "4         Serviços Privados              Baixa da CIP - Com resolução total  \n",
       "..                      ...                                             ...  \n",
       "394               Produtos            Encerrado - Desistência do Consumidor  \n",
       "395  Serviços Privados \\r\\n           Encerrado - Desistência do Consumidor  \n",
       "396               Produtos            Encerrado - Desistência do Consumidor  \n",
       "397               Produtos            Encerrado - Desistência do Consumidor  \n",
       "398               Produtos               Concluído  Atendimento Preliminar  \n",
       "\n",
       "[399 rows x 5 columns]"
      ]
     },
     "execution_count": 22,
     "metadata": {},
     "output_type": "execute_result"
    }
   ],
   "source": [
    "df"
   ]
  },
  {
   "cell_type": "code",
   "execution_count": 101,
   "id": "b26d11fd-9ff0-4a5a-b7d4-754aa828ce0f",
   "metadata": {},
   "outputs": [],
   "source": [
    "df[\"REGIÃO\"] = df[\"REGIÃO\"].str.strip()\n",
    "df[\"ÁREA\"] = df[\"ÁREA\"].str.strip()\n",
    "df[\"ENTRADA DA RECLAMAÇÃO\"] = df[\"ENTRADA DA RECLAMAÇÃO\"].str.strip()"
   ]
  },
  {
   "cell_type": "markdown",
   "id": "88724913-1baf-4f98-8760-ff427841aae4",
   "metadata": {},
   "source": [
    "### Qual a região com mais reclamações?"
   ]
  },
  {
   "cell_type": "code",
   "execution_count": 26,
   "id": "a499c060-d2b5-4e3e-b1f2-4577aaf586f9",
   "metadata": {},
   "outputs": [
    {
     "data": {
      "text/plain": [
       "'LESTE'"
      ]
     },
     "execution_count": 26,
     "metadata": {},
     "output_type": "execute_result"
    }
   ],
   "source": [
    "df[\"REGIÃO\"].value_counts().idxmax()"
   ]
  },
  {
   "cell_type": "markdown",
   "id": "0f76dd30-76d6-48c8-a646-a2c0046752e5",
   "metadata": {},
   "source": [
    "### Qual a média de reclamações por região?"
   ]
  },
  {
   "cell_type": "code",
   "execution_count": 27,
   "id": "615de52f-05fa-4e46-b418-c7639079f1fe",
   "metadata": {},
   "outputs": [
    {
     "data": {
      "text/plain": [
       "REGIÃO\n",
       "LESTE     0.353383\n",
       "SUL       0.238095\n",
       "NORTE     0.177945\n",
       "OESTE     0.172932\n",
       "CENTRO    0.045113\n",
       "-         0.012531\n",
       "Name: count, dtype: float64"
      ]
     },
     "execution_count": 27,
     "metadata": {},
     "output_type": "execute_result"
    }
   ],
   "source": [
    "media_regiao = df[\"REGIÃO\"].value_counts() / df.shape[0]\n",
    "\n",
    "media_regiao"
   ]
  },
  {
   "cell_type": "markdown",
   "id": "205fd528-8b54-4aae-bf61-06249fd3217e",
   "metadata": {},
   "source": [
    "### Qual área possui mais reclamações?"
   ]
  },
  {
   "cell_type": "code",
   "execution_count": 28,
   "id": "cb3a1cff-f87f-4319-96f2-6ddb5a9d1d1f",
   "metadata": {},
   "outputs": [
    {
     "data": {
      "text/plain": [
       "'Serviços Privados'"
      ]
     },
     "execution_count": 28,
     "metadata": {},
     "output_type": "execute_result"
    }
   ],
   "source": [
    "df[\"ÁREA\"].value_counts().idxmax()"
   ]
  },
  {
   "cell_type": "markdown",
   "id": "c3b6b8dd-7fc9-4f17-bd73-25f73a0ec106",
   "metadata": {},
   "source": [
    "### Qual a média de reclamações por área?"
   ]
  },
  {
   "cell_type": "code",
   "execution_count": 29,
   "id": "b5d123ad-13f8-4b29-be50-5b26321f5b2b",
   "metadata": {},
   "outputs": [
    {
     "data": {
      "text/plain": [
       "ÁREA\n",
       "Serviços Privados       0.395990\n",
       "Produtos                0.363409\n",
       "Assuntos Financeiros    0.115288\n",
       "Serviços Essenciais     0.080201\n",
       "Saúde                   0.025063\n",
       "Habitação               0.012531\n",
       "Alimentos               0.007519\n",
       "Name: count, dtype: float64"
      ]
     },
     "execution_count": 29,
     "metadata": {},
     "output_type": "execute_result"
    }
   ],
   "source": [
    "media_area = df[\"ÁREA\"].value_counts() / df.shape[0]\n",
    "\n",
    "media_area"
   ]
  },
  {
   "cell_type": "markdown",
   "id": "818405b8-3a29-4ff5-87d3-7b0cbcf4b293",
   "metadata": {},
   "source": [
    "### Por área, qual região possui mais reclamações?"
   ]
  },
  {
   "cell_type": "code",
   "execution_count": 117,
   "id": "deb2c929-d4ac-4014-ad71-9bbb9fb532bb",
   "metadata": {},
   "outputs": [],
   "source": [
    "df_filter = df[[\"ÁREA\", \"REGIÃO\"]]\n",
    "\n",
    "serie = df_filter.groupby(\"ÁREA\")[\"REGIÃO\"].value_counts()"
   ]
  },
  {
   "cell_type": "code",
   "execution_count": 116,
   "id": "7eea5566-fa2e-46c7-8b7e-2494c79f4871",
   "metadata": {},
   "outputs": [
    {
     "data": {
      "text/plain": [
       "Alimentos                {'região': 'LESTE', 'count': 2}\n",
       "Assuntos Financeiros    {'região': 'LESTE', 'count': 18}\n",
       "Habitação                {'região': 'LESTE', 'count': 3}\n",
       "Produtos                {'região': 'LESTE', 'count': 48}\n",
       "Saúde                    {'região': 'LESTE', 'count': 6}\n",
       "Serviços Essenciais     {'região': 'LESTE', 'count': 15}\n",
       "Serviços Privados       {'região': 'LESTE', 'count': 49}\n",
       "dtype: object"
      ]
     },
     "execution_count": 116,
     "metadata": {},
     "output_type": "execute_result"
    }
   ],
   "source": [
    "nova_serie = dict()\n",
    "\n",
    "for area, regiao in serie.keys():\n",
    "    if not area in nova_serie.keys() or nova_serie[area][\"count\"] < serie[area][regiao]:\n",
    "        nova_serie[area] = { \"região\": regiao, \"count\": serie[area][regiao] }\n",
    "\n",
    "nova_serie = pd.Series(nova_serie)\n",
    "\n",
    "nova_serie"
   ]
  },
  {
   "cell_type": "markdown",
   "id": "59fece2e-cbe4-473d-a112-6bf2f193f6e7",
   "metadata": {},
   "source": [
    "### Qual mês possui mais ocorrências?"
   ]
  },
  {
   "cell_type": "code",
   "execution_count": 115,
   "id": "cecb8ffb-c170-4f5b-9acc-4879b4d8b115",
   "metadata": {},
   "outputs": [
    {
     "data": {
      "text/plain": [
       "'Dezembro'"
      ]
     },
     "execution_count": 115,
     "metadata": {},
     "output_type": "execute_result"
    }
   ],
   "source": [
    "from datetime import datetime\n",
    "\n",
    "\n",
    "def pegaMes(data):\n",
    "    print(data)\n",
    "    mes = datetime.strptime(data, \"%d/%m/%Y\").month\n",
    "    return mes\n",
    "\n",
    "\n",
    "meses = ['Janeiro', 'Fevereiro', 'Março', 'Abril', 'Maio', 'Junho', 'Julho', 'Agosto', 'Setembro', 'Outubro', 'Novembro', 'Dezembro']\n",
    "meses_serie = pd.Series()\n",
    "\n",
    "for mes in meses:\n",
    "    meses_serie[mes] = 0\n",
    "\n",
    "# df[\"ENTRADA DA RECLAMAÇÃO\"].apply(pegaMes)\n",
    "df[\"ENTRADA DA RECLAMAÇÃO\"] = pd.to_datetime(df[\"ENTRADA DA RECLAMAÇÃO\"], format=\"%d/%m/%Y\")\n",
    "\n",
    "for pos, item in df[\"ENTRADA DA RECLAMAÇÃO\"].items():\n",
    "    meses_serie[meses[item.month - 1]] += 1\n",
    "\n",
    "meses_serie.idxmax()"
   ]
  }
 ],
 "metadata": {
  "kernelspec": {
   "display_name": "Python 3 (ipykernel)",
   "language": "python",
   "name": "python3"
  },
  "language_info": {
   "codemirror_mode": {
    "name": "ipython",
    "version": 3
   },
   "file_extension": ".py",
   "mimetype": "text/x-python",
   "name": "python",
   "nbconvert_exporter": "python",
   "pygments_lexer": "ipython3",
   "version": "3.12.3"
  }
 },
 "nbformat": 4,
 "nbformat_minor": 5
}
